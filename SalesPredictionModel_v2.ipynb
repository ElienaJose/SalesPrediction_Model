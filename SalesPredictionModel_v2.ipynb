{
 "cells": [
  {
   "cell_type": "code",
   "execution_count": 1,
   "id": "070a1086-5b2d-478d-b876-d44ee450eaaf",
   "metadata": {},
   "outputs": [],
   "source": [
    "# Basic Libraries\n",
    "import numpy as np\n",
    "import pandas as pd\n",
    "\n",
    "# Data Visualization\n",
    "import matplotlib.pyplot as plt\n",
    "import seaborn as sns\n",
    "\n",
    "# Machine Learning Models\n",
    "from sklearn.model_selection import train_test_split\n",
    "from sklearn.linear_model import LinearRegression\n",
    "from sklearn.ensemble import RandomForestRegressor\n",
    "\n",
    "\n",
    "\n",
    "# Model Evaluation\n",
    "from sklearn.metrics import mean_squared_error, r2_score, mean_absolute_error\n",
    "\n",
    "# Ignore warnings\n",
    "import warnings\n",
    "warnings.filterwarnings('ignore')\n"
   ]
  },
  {
   "cell_type": "code",
   "execution_count": 2,
   "id": "9515f393-1dc6-4007-9ce8-1f1cb4b0da2c",
   "metadata": {},
   "outputs": [],
   "source": [
    "# Load the dataset\n",
    "df = pd.read_csv(\"Datasets\\BigMart Sales Data.csv\")"
   ]
  },
  {
   "cell_type": "code",
   "execution_count": 3,
   "id": "724bcd84-b694-46e2-9bb6-b1b291b9e4dc",
   "metadata": {},
   "outputs": [
    {
     "data": {
      "text/html": [
       "<div>\n",
       "<style scoped>\n",
       "    .dataframe tbody tr th:only-of-type {\n",
       "        vertical-align: middle;\n",
       "    }\n",
       "\n",
       "    .dataframe tbody tr th {\n",
       "        vertical-align: top;\n",
       "    }\n",
       "\n",
       "    .dataframe thead th {\n",
       "        text-align: right;\n",
       "    }\n",
       "</style>\n",
       "<table border=\"1\" class=\"dataframe\">\n",
       "  <thead>\n",
       "    <tr style=\"text-align: right;\">\n",
       "      <th></th>\n",
       "      <th>Item_Identifier</th>\n",
       "      <th>Item_Weight</th>\n",
       "      <th>Item_Fat_Content</th>\n",
       "      <th>Item_Visibility</th>\n",
       "      <th>Item_Type</th>\n",
       "      <th>Item_MRP</th>\n",
       "      <th>Outlet_Identifier</th>\n",
       "      <th>Outlet_Establishment_Year</th>\n",
       "      <th>Outlet_Size</th>\n",
       "      <th>Outlet_Location_Type</th>\n",
       "      <th>Outlet_Type</th>\n",
       "      <th>Item_Outlet_Sales</th>\n",
       "    </tr>\n",
       "  </thead>\n",
       "  <tbody>\n",
       "    <tr>\n",
       "      <th>0</th>\n",
       "      <td>FDA15</td>\n",
       "      <td>9.30</td>\n",
       "      <td>Low Fat</td>\n",
       "      <td>0.016047</td>\n",
       "      <td>Dairy</td>\n",
       "      <td>249.8092</td>\n",
       "      <td>OUT049</td>\n",
       "      <td>1999</td>\n",
       "      <td>Medium</td>\n",
       "      <td>Tier 1</td>\n",
       "      <td>Supermarket Type1</td>\n",
       "      <td>3735.1380</td>\n",
       "    </tr>\n",
       "    <tr>\n",
       "      <th>1</th>\n",
       "      <td>DRC01</td>\n",
       "      <td>5.92</td>\n",
       "      <td>Regular</td>\n",
       "      <td>0.019278</td>\n",
       "      <td>Soft Drinks</td>\n",
       "      <td>48.2692</td>\n",
       "      <td>OUT018</td>\n",
       "      <td>2009</td>\n",
       "      <td>Medium</td>\n",
       "      <td>Tier 3</td>\n",
       "      <td>Supermarket Type2</td>\n",
       "      <td>443.4228</td>\n",
       "    </tr>\n",
       "    <tr>\n",
       "      <th>2</th>\n",
       "      <td>FDN15</td>\n",
       "      <td>17.50</td>\n",
       "      <td>Low Fat</td>\n",
       "      <td>0.016760</td>\n",
       "      <td>Meat</td>\n",
       "      <td>141.6180</td>\n",
       "      <td>OUT049</td>\n",
       "      <td>1999</td>\n",
       "      <td>Medium</td>\n",
       "      <td>Tier 1</td>\n",
       "      <td>Supermarket Type1</td>\n",
       "      <td>2097.2700</td>\n",
       "    </tr>\n",
       "    <tr>\n",
       "      <th>3</th>\n",
       "      <td>FDX07</td>\n",
       "      <td>19.20</td>\n",
       "      <td>Regular</td>\n",
       "      <td>0.000000</td>\n",
       "      <td>Fruits and Vegetables</td>\n",
       "      <td>182.0950</td>\n",
       "      <td>OUT010</td>\n",
       "      <td>1998</td>\n",
       "      <td>NaN</td>\n",
       "      <td>Tier 3</td>\n",
       "      <td>Grocery Store</td>\n",
       "      <td>732.3800</td>\n",
       "    </tr>\n",
       "    <tr>\n",
       "      <th>4</th>\n",
       "      <td>NCD19</td>\n",
       "      <td>8.93</td>\n",
       "      <td>Low Fat</td>\n",
       "      <td>0.000000</td>\n",
       "      <td>Household</td>\n",
       "      <td>53.8614</td>\n",
       "      <td>OUT013</td>\n",
       "      <td>1987</td>\n",
       "      <td>High</td>\n",
       "      <td>Tier 3</td>\n",
       "      <td>Supermarket Type1</td>\n",
       "      <td>994.7052</td>\n",
       "    </tr>\n",
       "  </tbody>\n",
       "</table>\n",
       "</div>"
      ],
      "text/plain": [
       "  Item_Identifier  Item_Weight Item_Fat_Content  Item_Visibility  \\\n",
       "0           FDA15         9.30          Low Fat         0.016047   \n",
       "1           DRC01         5.92          Regular         0.019278   \n",
       "2           FDN15        17.50          Low Fat         0.016760   \n",
       "3           FDX07        19.20          Regular         0.000000   \n",
       "4           NCD19         8.93          Low Fat         0.000000   \n",
       "\n",
       "               Item_Type  Item_MRP Outlet_Identifier  \\\n",
       "0                  Dairy  249.8092            OUT049   \n",
       "1            Soft Drinks   48.2692            OUT018   \n",
       "2                   Meat  141.6180            OUT049   \n",
       "3  Fruits and Vegetables  182.0950            OUT010   \n",
       "4              Household   53.8614            OUT013   \n",
       "\n",
       "   Outlet_Establishment_Year Outlet_Size Outlet_Location_Type  \\\n",
       "0                       1999      Medium               Tier 1   \n",
       "1                       2009      Medium               Tier 3   \n",
       "2                       1999      Medium               Tier 1   \n",
       "3                       1998         NaN               Tier 3   \n",
       "4                       1987        High               Tier 3   \n",
       "\n",
       "         Outlet_Type  Item_Outlet_Sales  \n",
       "0  Supermarket Type1          3735.1380  \n",
       "1  Supermarket Type2           443.4228  \n",
       "2  Supermarket Type1          2097.2700  \n",
       "3      Grocery Store           732.3800  \n",
       "4  Supermarket Type1           994.7052  "
      ]
     },
     "execution_count": 3,
     "metadata": {},
     "output_type": "execute_result"
    }
   ],
   "source": [
    "# Check the first few rows\n",
    "df.head()"
   ]
  },
  {
   "cell_type": "code",
   "execution_count": 4,
   "id": "d6df43a6-ef21-4158-b76a-d86f1ed126d4",
   "metadata": {},
   "outputs": [
    {
     "name": "stdout",
     "output_type": "stream",
     "text": [
      "<class 'pandas.core.frame.DataFrame'>\n",
      "RangeIndex: 8523 entries, 0 to 8522\n",
      "Data columns (total 12 columns):\n",
      " #   Column                     Non-Null Count  Dtype  \n",
      "---  ------                     --------------  -----  \n",
      " 0   Item_Identifier            8523 non-null   object \n",
      " 1   Item_Weight                7060 non-null   float64\n",
      " 2   Item_Fat_Content           8523 non-null   object \n",
      " 3   Item_Visibility            8523 non-null   float64\n",
      " 4   Item_Type                  8523 non-null   object \n",
      " 5   Item_MRP                   8523 non-null   float64\n",
      " 6   Outlet_Identifier          8523 non-null   object \n",
      " 7   Outlet_Establishment_Year  8523 non-null   int64  \n",
      " 8   Outlet_Size                6113 non-null   object \n",
      " 9   Outlet_Location_Type       8523 non-null   object \n",
      " 10  Outlet_Type                8523 non-null   object \n",
      " 11  Item_Outlet_Sales          8523 non-null   float64\n",
      "dtypes: float64(4), int64(1), object(7)\n",
      "memory usage: 799.2+ KB\n"
     ]
    }
   ],
   "source": [
    "df.info()"
   ]
  },
  {
   "cell_type": "code",
   "execution_count": 5,
   "id": "435f8b2f-51fe-4b79-bb83-d2e299dc8cda",
   "metadata": {},
   "outputs": [
    {
     "data": {
      "text/plain": [
       "Item_Identifier                 0\n",
       "Item_Weight                  1463\n",
       "Item_Fat_Content                0\n",
       "Item_Visibility                 0\n",
       "Item_Type                       0\n",
       "Item_MRP                        0\n",
       "Outlet_Identifier               0\n",
       "Outlet_Establishment_Year       0\n",
       "Outlet_Size                  2410\n",
       "Outlet_Location_Type            0\n",
       "Outlet_Type                     0\n",
       "Item_Outlet_Sales               0\n",
       "dtype: int64"
      ]
     },
     "execution_count": 5,
     "metadata": {},
     "output_type": "execute_result"
    }
   ],
   "source": [
    "df.isnull().sum()"
   ]
  },
  {
   "cell_type": "code",
   "execution_count": 6,
   "id": "347d7afd-8aba-4e1f-9153-76c5714b9b2d",
   "metadata": {},
   "outputs": [
    {
     "data": {
      "text/plain": [
       "(8523, 12)"
      ]
     },
     "execution_count": 6,
     "metadata": {},
     "output_type": "execute_result"
    }
   ],
   "source": [
    "df.shape"
   ]
  },
  {
   "cell_type": "markdown",
   "id": "9c354e27-4faa-4bb1-85da-bbdf9ed30644",
   "metadata": {},
   "source": [
    "## Handling the missing values"
   ]
  },
  {
   "cell_type": "code",
   "execution_count": 7,
   "id": "34393c64-c6b3-4132-ad50-add7eb3860ec",
   "metadata": {},
   "outputs": [
    {
     "name": "stdout",
     "output_type": "stream",
     "text": [
      "Missing values after filling: Item_Identifier              0\n",
      "Item_Weight                  0\n",
      "Item_Fat_Content             0\n",
      "Item_Visibility              0\n",
      "Item_Type                    0\n",
      "Item_MRP                     0\n",
      "Outlet_Identifier            0\n",
      "Outlet_Establishment_Year    0\n",
      "Outlet_Size                  0\n",
      "Outlet_Location_Type         0\n",
      "Outlet_Type                  0\n",
      "Item_Outlet_Sales            0\n",
      "dtype: int64\n"
     ]
    }
   ],
   "source": [
    "# Fill missing values for Item_Weight with the median\n",
    "df['Item_Weight'] = df['Item_Weight'].fillna(df['Item_Weight'].median())\n",
    "\n",
    "# Fill missing values for Outlet_Size with the mode (most frequent value)\n",
    "df['Outlet_Size'] = df['Outlet_Size'].fillna(df['Outlet_Size'].mode()[0])\n",
    "\n",
    "# Verify if all missing values are handled\n",
    "print(\"Missing values after filling:\", df.isnull().sum())"
   ]
  },
  {
   "cell_type": "code",
   "execution_count": 8,
   "id": "fdb097f4-c232-4fd4-ab91-b5c8cb18842b",
   "metadata": {},
   "outputs": [
    {
     "data": {
      "text/plain": [
       "Index(['Item_Identifier', 'Item_Weight', 'Item_Fat_Content', 'Item_Visibility',\n",
       "       'Item_Type', 'Item_MRP', 'Outlet_Identifier',\n",
       "       'Outlet_Establishment_Year', 'Outlet_Size', 'Outlet_Location_Type',\n",
       "       'Outlet_Type', 'Item_Outlet_Sales'],\n",
       "      dtype='object')"
      ]
     },
     "execution_count": 8,
     "metadata": {},
     "output_type": "execute_result"
    }
   ],
   "source": [
    "df.columns"
   ]
  },
  {
   "cell_type": "code",
   "execution_count": 9,
   "id": "8f843041-e6a9-48ff-b529-209996a34648",
   "metadata": {},
   "outputs": [],
   "source": [
    "Selected_columns = [ 'Item_Weight', 'Item_Fat_Content', 'Item_Visibility',\n",
    "       'Item_Type', 'Item_MRP', 'Outlet_Identifier',\n",
    "       'Outlet_Establishment_Year', 'Outlet_Size', 'Outlet_Location_Type',\n",
    "       'Outlet_Type']"
   ]
  },
  {
   "cell_type": "code",
   "execution_count": 10,
   "id": "5abfdc1a-da4f-4b72-899b-c542b2246f70",
   "metadata": {},
   "outputs": [],
   "source": [
    "numerical_columns = df.select_dtypes(include=[float, int]).columns"
   ]
  },
  {
   "cell_type": "code",
   "execution_count": 11,
   "id": "76a43253-4a52-4cf4-a828-70b106c68dd4",
   "metadata": {},
   "outputs": [
    {
     "data": {
      "text/plain": [
       "Index(['Item_Weight', 'Item_Visibility', 'Item_MRP',\n",
       "       'Outlet_Establishment_Year', 'Item_Outlet_Sales'],\n",
       "      dtype='object')"
      ]
     },
     "execution_count": 11,
     "metadata": {},
     "output_type": "execute_result"
    }
   ],
   "source": [
    "numerical_columns"
   ]
  },
  {
   "cell_type": "code",
   "execution_count": 12,
   "id": "8184f50f-67ab-4f50-933c-cfcacadd800c",
   "metadata": {},
   "outputs": [],
   "source": [
    "categorical_columns =df.select_dtypes(include=[object]).columns"
   ]
  },
  {
   "cell_type": "code",
   "execution_count": 13,
   "id": "6cac26cc-1f9d-40d7-b64d-ce38e72358fd",
   "metadata": {},
   "outputs": [
    {
     "data": {
      "text/plain": [
       "Index(['Item_Identifier', 'Item_Fat_Content', 'Item_Type', 'Outlet_Identifier',\n",
       "       'Outlet_Size', 'Outlet_Location_Type', 'Outlet_Type'],\n",
       "      dtype='object')"
      ]
     },
     "execution_count": 13,
     "metadata": {},
     "output_type": "execute_result"
    }
   ],
   "source": [
    "categorical_columns"
   ]
  },
  {
   "cell_type": "code",
   "execution_count": 14,
   "id": "9878a193-bba2-47af-b150-4c96e5c4c7dc",
   "metadata": {},
   "outputs": [
    {
     "name": "stdout",
     "output_type": "stream",
     "text": [
      "Total Unique values in column Item_Identifier:1559\n",
      "Total Unique values in column Item_Fat_Content:5\n",
      "Total Unique values in column Item_Type:16\n",
      "Total Unique values in column Outlet_Identifier:10\n",
      "Total Unique values in column Outlet_Size:3\n",
      "Total Unique values in column Outlet_Location_Type:3\n",
      "Total Unique values in column Outlet_Type:4\n"
     ]
    }
   ],
   "source": [
    "for column in categorical_columns:\n",
    "    print(f\"Total Unique values in column {column}:{len(df[column].unique())}\")\n",
    "   "
   ]
  },
  {
   "cell_type": "code",
   "execution_count": 15,
   "id": "26559d6d-f357-4fad-8a8c-f4c9f00da55f",
   "metadata": {},
   "outputs": [
    {
     "data": {
      "text/plain": [
       "Item_Fat_Content\n",
       "Low Fat    5089\n",
       "Regular    2889\n",
       "LF          316\n",
       "reg         117\n",
       "low fat     112\n",
       "Name: count, dtype: int64"
      ]
     },
     "execution_count": 15,
     "metadata": {},
     "output_type": "execute_result"
    }
   ],
   "source": [
    "df.Item_Fat_Content.value_counts()"
   ]
  },
  {
   "cell_type": "markdown",
   "id": "2235ecac-fc93-464f-a8d1-a03e25b892e0",
   "metadata": {},
   "source": [
    "## It needed to be cleaned !!!"
   ]
  },
  {
   "cell_type": "code",
   "execution_count": 16,
   "id": "fdf92123-2915-4dbd-854e-e98c4d60ba4d",
   "metadata": {},
   "outputs": [
    {
     "name": "stdout",
     "output_type": "stream",
     "text": [
      "Item_Fat_Content\n",
      "Low Fat    5517\n",
      "Regular    3006\n",
      "Name: count, dtype: int64\n"
     ]
    }
   ],
   "source": [
    "# Clean 'Item_Fat_Content' by replacing variations\n",
    "df['Item_Fat_Content'] = df['Item_Fat_Content'].replace({\n",
    "    'LF': 'Low Fat',\n",
    "    'low fat': 'Low Fat',\n",
    "    'reg': 'Regular'\n",
    "})\n",
    "\n",
    "# Check if the cleaning was successful\n",
    "print(df['Item_Fat_Content'].value_counts())\n"
   ]
  },
  {
   "cell_type": "code",
   "execution_count": 17,
   "id": "e1e2a27e-4146-4bf2-8323-b012c6323563",
   "metadata": {},
   "outputs": [
    {
     "name": "stdout",
     "output_type": "stream",
     "text": [
      "Outlet_Type\n",
      "Supermarket Type1    5577\n",
      "Grocery Store        1083\n",
      "Supermarket Type3     935\n",
      "Supermarket Type2     928\n",
      "Name: count, dtype: int64\n"
     ]
    }
   ],
   "source": [
    "print(df['Outlet_Type'].value_counts())\n"
   ]
  },
  {
   "cell_type": "code",
   "execution_count": 18,
   "id": "967811a3-d8a1-4a37-8043-d7f19187040a",
   "metadata": {},
   "outputs": [
    {
     "name": "stdout",
     "output_type": "stream",
     "text": [
      "Outlet_Location_Type\n",
      "Tier 3    3350\n",
      "Tier 2    2785\n",
      "Tier 1    2388\n",
      "Name: count, dtype: int64\n"
     ]
    }
   ],
   "source": [
    "print(df['Outlet_Location_Type'].value_counts())"
   ]
  },
  {
   "cell_type": "code",
   "execution_count": 19,
   "id": "4f53b25c-010c-4f33-afa1-a5331830f2f7",
   "metadata": {},
   "outputs": [
    {
     "name": "stdout",
     "output_type": "stream",
     "text": [
      "Outlet_Size\n",
      "Medium    5203\n",
      "Small     2388\n",
      "High       932\n",
      "Name: count, dtype: int64\n"
     ]
    }
   ],
   "source": [
    "print(df['Outlet_Size'].value_counts())"
   ]
  },
  {
   "cell_type": "code",
   "execution_count": 20,
   "id": "c6265778-d0f9-41fc-96fb-3c999c0e9c9c",
   "metadata": {},
   "outputs": [
    {
     "name": "stdout",
     "output_type": "stream",
     "text": [
      "object\n"
     ]
    }
   ],
   "source": [
    "print(df['Outlet_Location_Type'].dtype)\n"
   ]
  },
  {
   "cell_type": "code",
   "execution_count": 21,
   "id": "8fb7979d-d815-46a0-b656-0db3e8384208",
   "metadata": {},
   "outputs": [
    {
     "data": {
      "text/plain": [
       "0"
      ]
     },
     "execution_count": 21,
     "metadata": {},
     "output_type": "execute_result"
    }
   ],
   "source": [
    "df['Outlet_Size'].isnull().sum()"
   ]
  },
  {
   "cell_type": "code",
   "execution_count": 22,
   "id": "b163ca81-b0e2-41ab-bc7a-e67ff65fcb58",
   "metadata": {},
   "outputs": [
    {
     "name": "stdout",
     "output_type": "stream",
     "text": [
      "[0. 2. 1.]\n",
      "[1. 2. 0.]\n",
      "[ 4. 14. 10.  6.  9.  0. 13.  5.  2.  8.  7.  3.  1. 15. 11. 12.]\n",
      "[9. 3. 0. 1. 5. 7. 2. 8. 6. 4.]\n"
     ]
    }
   ],
   "source": [
    "## label encoding for Outlet_Location_Type,Outlet_Size, Item_Type, Outlet Identifier\n",
    "\n",
    "from sklearn.preprocessing import OrdinalEncoder\n",
    "\n",
    "# Define the order of categories\n",
    "categories_lt = ['Tier 1', 'Tier 2', 'Tier 3']\n",
    "categories_s = ['Small', 'Medium', 'High']\n",
    "\n",
    "# Create an instance of OrdinalEncoder\n",
    "ordinal_encoder_lt = OrdinalEncoder(categories=[categories_lt])\n",
    "ordinal_encoder_s = OrdinalEncoder(categories=[categories_s])\n",
    "ordinal_encoder_t = OrdinalEncoder()\n",
    "ordinal_encoder_I = OrdinalEncoder()\n",
    "\n",
    "# Fit and transform the 'Outlet_Location_Type' column\n",
    "df['Outlet_Location_Type'] = ordinal_encoder_lt.fit_transform(df[['Outlet_Location_Type']])\n",
    "\n",
    "# Fit and transform the 'Outlet_Size' column\n",
    "df['Outlet_Size'] = ordinal_encoder_s.fit_transform(df[['Outlet_Size']])\n",
    "\n",
    "# Fit and transform the 'Item_Type' column\n",
    "df['Item_Type'] = ordinal_encoder_t.fit_transform(df[['Item_Type']])\n",
    "\n",
    "\n",
    "# Fit and transform the 'Outlet_Identifier' column\n",
    "df['Outlet_Identifier'] = ordinal_encoder_I.fit_transform(df[['Outlet_Identifier']])\n",
    "\n",
    "# Check the unique values after encoding\n",
    "print(df['Outlet_Location_Type'].unique())\n",
    "\n",
    "# Check the unique values after encoding\n",
    "print(df['Outlet_Size'].unique())\n",
    "\n",
    "# Check the unique values after encoding\n",
    "print(df['Item_Type'].unique())\n",
    "\n",
    "# Check the unique values after encoding\n",
    "print(df['Outlet_Identifier'].unique())\n",
    "\n",
    "\n",
    "\n",
    "\n"
   ]
  },
  {
   "cell_type": "markdown",
   "id": "20569656-2ab7-4be7-87a1-10fdc11b437a",
   "metadata": {},
   "source": [
    "## We will do one hot encoding for the other categorical columns:\n"
   ]
  },
  {
   "cell_type": "code",
   "execution_count": 23,
   "id": "719e01cc-3022-4806-a02c-5cef64f42d1b",
   "metadata": {},
   "outputs": [
    {
     "name": "stdout",
     "output_type": "stream",
     "text": [
      "     Item_Identifier  Item_Weight  Item_Visibility  Item_Type  Item_MRP  \\\n",
      "0              FDA15        9.300         0.016047        4.0  249.8092   \n",
      "1              DRC01        5.920         0.019278       14.0   48.2692   \n",
      "2              FDN15       17.500         0.016760       10.0  141.6180   \n",
      "3              FDX07       19.200         0.000000        6.0  182.0950   \n",
      "4              NCD19        8.930         0.000000        9.0   53.8614   \n",
      "...              ...          ...              ...        ...       ...   \n",
      "8518           FDF22        6.865         0.056783       13.0  214.5218   \n",
      "8519           FDS36        8.380         0.046982        0.0  108.1570   \n",
      "8520           NCJ29       10.600         0.035186        8.0   85.1224   \n",
      "8521           FDN46        7.210         0.145221       13.0  103.1332   \n",
      "8522           DRG01       14.800         0.044878       14.0   75.4670   \n",
      "\n",
      "      Outlet_Identifier  Outlet_Establishment_Year  Outlet_Size  \\\n",
      "0                   9.0                       1999          1.0   \n",
      "1                   3.0                       2009          1.0   \n",
      "2                   9.0                       1999          1.0   \n",
      "3                   0.0                       1998          1.0   \n",
      "4                   1.0                       1987          2.0   \n",
      "...                 ...                        ...          ...   \n",
      "8518                1.0                       1987          2.0   \n",
      "8519                7.0                       2002          1.0   \n",
      "8520                6.0                       2004          0.0   \n",
      "8521                3.0                       2009          1.0   \n",
      "8522                8.0                       1997          0.0   \n",
      "\n",
      "      Outlet_Location_Type  Item_Outlet_Sales  Item_Fat_Content_Regular  \\\n",
      "0                      0.0          3735.1380                     False   \n",
      "1                      2.0           443.4228                      True   \n",
      "2                      0.0          2097.2700                     False   \n",
      "3                      2.0           732.3800                      True   \n",
      "4                      2.0           994.7052                     False   \n",
      "...                    ...                ...                       ...   \n",
      "8518                   2.0          2778.3834                     False   \n",
      "8519                   1.0           549.2850                      True   \n",
      "8520                   1.0          1193.1136                     False   \n",
      "8521                   2.0          1845.5976                      True   \n",
      "8522                   0.0           765.6700                     False   \n",
      "\n",
      "      Outlet_Type_Supermarket Type1  Outlet_Type_Supermarket Type2  \\\n",
      "0                              True                          False   \n",
      "1                             False                           True   \n",
      "2                              True                          False   \n",
      "3                             False                          False   \n",
      "4                              True                          False   \n",
      "...                             ...                            ...   \n",
      "8518                           True                          False   \n",
      "8519                           True                          False   \n",
      "8520                           True                          False   \n",
      "8521                          False                           True   \n",
      "8522                           True                          False   \n",
      "\n",
      "      Outlet_Type_Supermarket Type3  \n",
      "0                             False  \n",
      "1                             False  \n",
      "2                             False  \n",
      "3                             False  \n",
      "4                             False  \n",
      "...                             ...  \n",
      "8518                          False  \n",
      "8519                          False  \n",
      "8520                          False  \n",
      "8521                          False  \n",
      "8522                          False  \n",
      "\n",
      "[8523 rows x 14 columns]\n"
     ]
    }
   ],
   "source": [
    "# OH encoding for Item_Fat_Content,Outlet_Type\n",
    "\n",
    "# One-Hot Encoding for 'Item_Fat_Content' and 'Outlet_Type'\n",
    "df_encoded = pd.get_dummies(df, columns=['Item_Fat_Content', 'Outlet_Type'], drop_first=True)\n",
    "\n",
    "# Display the encoded DataFrame\n",
    "print(df_encoded)"
   ]
  },
  {
   "cell_type": "code",
   "execution_count": 24,
   "id": "8dba9365-de94-40c9-aff0-8397b29de707",
   "metadata": {},
   "outputs": [
    {
     "data": {
      "text/plain": [
       "Index(['Item_Identifier', 'Item_Weight', 'Item_Visibility', 'Item_Type',\n",
       "       'Item_MRP', 'Outlet_Identifier', 'Outlet_Establishment_Year',\n",
       "       'Outlet_Size', 'Outlet_Location_Type', 'Item_Outlet_Sales',\n",
       "       'Item_Fat_Content_Regular', 'Outlet_Type_Supermarket Type1',\n",
       "       'Outlet_Type_Supermarket Type2', 'Outlet_Type_Supermarket Type3'],\n",
       "      dtype='object')"
      ]
     },
     "execution_count": 24,
     "metadata": {},
     "output_type": "execute_result"
    }
   ],
   "source": [
    "df_encoded.columns"
   ]
  },
  {
   "cell_type": "code",
   "execution_count": 25,
   "id": "0cdb7993-9052-474b-b202-29498794b392",
   "metadata": {},
   "outputs": [],
   "source": [
    "df_scaled = df_encoded.copy()"
   ]
  },
  {
   "cell_type": "markdown",
   "id": "77d8ef1d-aa75-4589-b799-9193d5de6397",
   "metadata": {},
   "source": [
    "## Scaling the data(for linear regression)"
   ]
  },
  {
   "cell_type": "code",
   "execution_count": 26,
   "id": "d8bfde45-beec-4dae-8050-05c81a180f24",
   "metadata": {},
   "outputs": [],
   "source": [
    "from sklearn.preprocessing import StandardScaler\n",
    "\n",
    "# Select the columns that need to be scaled\n",
    "numeric_columns = ['Item_Weight', 'Item_Visibility', 'Item_MRP', 'Outlet_Establishment_Year']\n",
    "target = ['Item_Outlet_Sales']\n",
    "\n",
    "# Initialize the scaler\n",
    "scaler_f = StandardScaler()\n",
    "scaler_t = StandardScaler()\n",
    "\n",
    "# Apply scaling to the numeric columns\n",
    "df_scaled[numeric_columns] = scaler_f.fit_transform(df_scaled[numeric_columns])\n",
    "df_scaled[target] = scaler_t.fit_transform(df_scaled[target])\n"
   ]
  },
  {
   "cell_type": "code",
   "execution_count": 27,
   "id": "7904d154-47bc-430b-97af-1c7ce5c53dd0",
   "metadata": {},
   "outputs": [
    {
     "data": {
      "text/html": [
       "<div>\n",
       "<style scoped>\n",
       "    .dataframe tbody tr th:only-of-type {\n",
       "        vertical-align: middle;\n",
       "    }\n",
       "\n",
       "    .dataframe tbody tr th {\n",
       "        vertical-align: top;\n",
       "    }\n",
       "\n",
       "    .dataframe thead th {\n",
       "        text-align: right;\n",
       "    }\n",
       "</style>\n",
       "<table border=\"1\" class=\"dataframe\">\n",
       "  <thead>\n",
       "    <tr style=\"text-align: right;\">\n",
       "      <th></th>\n",
       "      <th>Item_Identifier</th>\n",
       "      <th>Item_Weight</th>\n",
       "      <th>Item_Visibility</th>\n",
       "      <th>Item_Type</th>\n",
       "      <th>Item_MRP</th>\n",
       "      <th>Outlet_Identifier</th>\n",
       "      <th>Outlet_Establishment_Year</th>\n",
       "      <th>Outlet_Size</th>\n",
       "      <th>Outlet_Location_Type</th>\n",
       "      <th>Item_Outlet_Sales</th>\n",
       "      <th>Item_Fat_Content_Regular</th>\n",
       "      <th>Outlet_Type_Supermarket Type1</th>\n",
       "      <th>Outlet_Type_Supermarket Type2</th>\n",
       "      <th>Outlet_Type_Supermarket Type3</th>\n",
       "    </tr>\n",
       "  </thead>\n",
       "  <tbody>\n",
       "    <tr>\n",
       "      <th>0</th>\n",
       "      <td>FDA15</td>\n",
       "      <td>-0.831187</td>\n",
       "      <td>-0.970732</td>\n",
       "      <td>4.0</td>\n",
       "      <td>1.747454</td>\n",
       "      <td>9.0</td>\n",
       "      <td>0.139541</td>\n",
       "      <td>1.0</td>\n",
       "      <td>0.0</td>\n",
       "      <td>0.910601</td>\n",
       "      <td>False</td>\n",
       "      <td>True</td>\n",
       "      <td>False</td>\n",
       "      <td>False</td>\n",
       "    </tr>\n",
       "    <tr>\n",
       "      <th>1</th>\n",
       "      <td>DRC01</td>\n",
       "      <td>-1.630810</td>\n",
       "      <td>-0.908111</td>\n",
       "      <td>14.0</td>\n",
       "      <td>-1.489023</td>\n",
       "      <td>3.0</td>\n",
       "      <td>1.334103</td>\n",
       "      <td>1.0</td>\n",
       "      <td>2.0</td>\n",
       "      <td>-1.018440</td>\n",
       "      <td>True</td>\n",
       "      <td>False</td>\n",
       "      <td>True</td>\n",
       "      <td>False</td>\n",
       "    </tr>\n",
       "  </tbody>\n",
       "</table>\n",
       "</div>"
      ],
      "text/plain": [
       "  Item_Identifier  Item_Weight  Item_Visibility  Item_Type  Item_MRP  \\\n",
       "0           FDA15    -0.831187        -0.970732        4.0  1.747454   \n",
       "1           DRC01    -1.630810        -0.908111       14.0 -1.489023   \n",
       "\n",
       "   Outlet_Identifier  Outlet_Establishment_Year  Outlet_Size  \\\n",
       "0                9.0                   0.139541          1.0   \n",
       "1                3.0                   1.334103          1.0   \n",
       "\n",
       "   Outlet_Location_Type  Item_Outlet_Sales  Item_Fat_Content_Regular  \\\n",
       "0                   0.0           0.910601                     False   \n",
       "1                   2.0          -1.018440                      True   \n",
       "\n",
       "   Outlet_Type_Supermarket Type1  Outlet_Type_Supermarket Type2  \\\n",
       "0                           True                          False   \n",
       "1                          False                           True   \n",
       "\n",
       "   Outlet_Type_Supermarket Type3  \n",
       "0                          False  \n",
       "1                          False  "
      ]
     },
     "execution_count": 27,
     "metadata": {},
     "output_type": "execute_result"
    }
   ],
   "source": [
    "df_scaled.head(2)"
   ]
  },
  {
   "cell_type": "code",
   "execution_count": 28,
   "id": "55540e5b-6e67-4641-969a-de4c0c92c357",
   "metadata": {},
   "outputs": [
    {
     "name": "stdout",
     "output_type": "stream",
     "text": [
      "<class 'pandas.core.frame.DataFrame'>\n",
      "RangeIndex: 8523 entries, 0 to 8522\n",
      "Data columns (total 14 columns):\n",
      " #   Column                         Non-Null Count  Dtype  \n",
      "---  ------                         --------------  -----  \n",
      " 0   Item_Identifier                8523 non-null   object \n",
      " 1   Item_Weight                    8523 non-null   float64\n",
      " 2   Item_Visibility                8523 non-null   float64\n",
      " 3   Item_Type                      8523 non-null   float64\n",
      " 4   Item_MRP                       8523 non-null   float64\n",
      " 5   Outlet_Identifier              8523 non-null   float64\n",
      " 6   Outlet_Establishment_Year      8523 non-null   int64  \n",
      " 7   Outlet_Size                    8523 non-null   float64\n",
      " 8   Outlet_Location_Type           8523 non-null   float64\n",
      " 9   Item_Outlet_Sales              8523 non-null   float64\n",
      " 10  Item_Fat_Content_Regular       8523 non-null   bool   \n",
      " 11  Outlet_Type_Supermarket Type1  8523 non-null   bool   \n",
      " 12  Outlet_Type_Supermarket Type2  8523 non-null   bool   \n",
      " 13  Outlet_Type_Supermarket Type3  8523 non-null   bool   \n",
      "dtypes: bool(4), float64(8), int64(1), object(1)\n",
      "memory usage: 699.3+ KB\n"
     ]
    }
   ],
   "source": [
    "df_encoded.info()"
   ]
  },
  {
   "cell_type": "markdown",
   "id": "83861ccf-9040-4542-97e8-dec9c4e9ec31",
   "metadata": {},
   "source": [
    "## Using Linear Regression"
   ]
  },
  {
   "cell_type": "code",
   "execution_count": 67,
   "id": "d9ec6219-ddc4-4c09-9702-6be497950063",
   "metadata": {},
   "outputs": [],
   "source": [
    "X_lr = df_scaled.drop([\"Item_Identifier\",\"Item_Outlet_Sales\"], axis = \"columns\")"
   ]
  },
  {
   "cell_type": "code",
   "execution_count": 68,
   "id": "d68f4b3d-8167-4070-8ab0-e4a2764fafc6",
   "metadata": {},
   "outputs": [],
   "source": [
    "y_lr = df_scaled.Item_Outlet_Sales"
   ]
  },
  {
   "cell_type": "code",
   "execution_count": 69,
   "id": "d7d4e9fa-19c9-41a6-b967-24c39a77bd58",
   "metadata": {},
   "outputs": [],
   "source": [
    "def get_x_y(X,y):\n",
    "    X_train, X_test, y_train, y_test  = train_test_split(X,y,test_size =.2)\n",
    "    return X_train, X_test, y_train, y_test"
   ]
  },
  {
   "cell_type": "code",
   "execution_count": 70,
   "id": "6e68ad31-36b1-466a-b55a-f94e23824fc5",
   "metadata": {},
   "outputs": [],
   "source": [
    "X_train, X_test, y_train, y_test = get_x_y(X_lr,y_lr)"
   ]
  },
  {
   "cell_type": "code",
   "execution_count": 71,
   "id": "e09bbc21-87b3-407e-8c86-deb4490b78cd",
   "metadata": {},
   "outputs": [],
   "source": [
    "model = LinearRegression()"
   ]
  },
  {
   "cell_type": "code",
   "execution_count": 72,
   "id": "dfe8b116-7354-4cae-8ae2-da56e3f26d70",
   "metadata": {},
   "outputs": [
    {
     "data": {
      "text/html": [
       "<style>#sk-container-id-4 {color: black;}#sk-container-id-4 pre{padding: 0;}#sk-container-id-4 div.sk-toggleable {background-color: white;}#sk-container-id-4 label.sk-toggleable__label {cursor: pointer;display: block;width: 100%;margin-bottom: 0;padding: 0.3em;box-sizing: border-box;text-align: center;}#sk-container-id-4 label.sk-toggleable__label-arrow:before {content: \"▸\";float: left;margin-right: 0.25em;color: #696969;}#sk-container-id-4 label.sk-toggleable__label-arrow:hover:before {color: black;}#sk-container-id-4 div.sk-estimator:hover label.sk-toggleable__label-arrow:before {color: black;}#sk-container-id-4 div.sk-toggleable__content {max-height: 0;max-width: 0;overflow: hidden;text-align: left;background-color: #f0f8ff;}#sk-container-id-4 div.sk-toggleable__content pre {margin: 0.2em;color: black;border-radius: 0.25em;background-color: #f0f8ff;}#sk-container-id-4 input.sk-toggleable__control:checked~div.sk-toggleable__content {max-height: 200px;max-width: 100%;overflow: auto;}#sk-container-id-4 input.sk-toggleable__control:checked~label.sk-toggleable__label-arrow:before {content: \"▾\";}#sk-container-id-4 div.sk-estimator input.sk-toggleable__control:checked~label.sk-toggleable__label {background-color: #d4ebff;}#sk-container-id-4 div.sk-label input.sk-toggleable__control:checked~label.sk-toggleable__label {background-color: #d4ebff;}#sk-container-id-4 input.sk-hidden--visually {border: 0;clip: rect(1px 1px 1px 1px);clip: rect(1px, 1px, 1px, 1px);height: 1px;margin: -1px;overflow: hidden;padding: 0;position: absolute;width: 1px;}#sk-container-id-4 div.sk-estimator {font-family: monospace;background-color: #f0f8ff;border: 1px dotted black;border-radius: 0.25em;box-sizing: border-box;margin-bottom: 0.5em;}#sk-container-id-4 div.sk-estimator:hover {background-color: #d4ebff;}#sk-container-id-4 div.sk-parallel-item::after {content: \"\";width: 100%;border-bottom: 1px solid gray;flex-grow: 1;}#sk-container-id-4 div.sk-label:hover label.sk-toggleable__label {background-color: #d4ebff;}#sk-container-id-4 div.sk-serial::before {content: \"\";position: absolute;border-left: 1px solid gray;box-sizing: border-box;top: 0;bottom: 0;left: 50%;z-index: 0;}#sk-container-id-4 div.sk-serial {display: flex;flex-direction: column;align-items: center;background-color: white;padding-right: 0.2em;padding-left: 0.2em;position: relative;}#sk-container-id-4 div.sk-item {position: relative;z-index: 1;}#sk-container-id-4 div.sk-parallel {display: flex;align-items: stretch;justify-content: center;background-color: white;position: relative;}#sk-container-id-4 div.sk-item::before, #sk-container-id-4 div.sk-parallel-item::before {content: \"\";position: absolute;border-left: 1px solid gray;box-sizing: border-box;top: 0;bottom: 0;left: 50%;z-index: -1;}#sk-container-id-4 div.sk-parallel-item {display: flex;flex-direction: column;z-index: 1;position: relative;background-color: white;}#sk-container-id-4 div.sk-parallel-item:first-child::after {align-self: flex-end;width: 50%;}#sk-container-id-4 div.sk-parallel-item:last-child::after {align-self: flex-start;width: 50%;}#sk-container-id-4 div.sk-parallel-item:only-child::after {width: 0;}#sk-container-id-4 div.sk-dashed-wrapped {border: 1px dashed gray;margin: 0 0.4em 0.5em 0.4em;box-sizing: border-box;padding-bottom: 0.4em;background-color: white;}#sk-container-id-4 div.sk-label label {font-family: monospace;font-weight: bold;display: inline-block;line-height: 1.2em;}#sk-container-id-4 div.sk-label-container {text-align: center;}#sk-container-id-4 div.sk-container {/* jupyter's `normalize.less` sets `[hidden] { display: none; }` but bootstrap.min.css set `[hidden] { display: none !important; }` so we also need the `!important` here to be able to override the default hidden behavior on the sphinx rendered scikit-learn.org. See: https://github.com/scikit-learn/scikit-learn/issues/21755 */display: inline-block !important;position: relative;}#sk-container-id-4 div.sk-text-repr-fallback {display: none;}</style><div id=\"sk-container-id-4\" class=\"sk-top-container\"><div class=\"sk-text-repr-fallback\"><pre>LinearRegression()</pre><b>In a Jupyter environment, please rerun this cell to show the HTML representation or trust the notebook. <br />On GitHub, the HTML representation is unable to render, please try loading this page with nbviewer.org.</b></div><div class=\"sk-container\" hidden><div class=\"sk-item\"><div class=\"sk-estimator sk-toggleable\"><input class=\"sk-toggleable__control sk-hidden--visually\" id=\"sk-estimator-id-4\" type=\"checkbox\" checked><label for=\"sk-estimator-id-4\" class=\"sk-toggleable__label sk-toggleable__label-arrow\">LinearRegression</label><div class=\"sk-toggleable__content\"><pre>LinearRegression()</pre></div></div></div></div></div>"
      ],
      "text/plain": [
       "LinearRegression()"
      ]
     },
     "execution_count": 72,
     "metadata": {},
     "output_type": "execute_result"
    }
   ],
   "source": [
    "model.fit(X_train,y_train)"
   ]
  },
  {
   "cell_type": "code",
   "execution_count": 73,
   "id": "edd5cb64-b9cc-414d-94e4-af7d3b43a42b",
   "metadata": {},
   "outputs": [
    {
     "data": {
      "text/plain": [
       "array([-0.90181861, -0.08523486, -0.44095169,  0.58596297, -1.32660688])"
      ]
     },
     "execution_count": 73,
     "metadata": {},
     "output_type": "execute_result"
    }
   ],
   "source": [
    "# Example code to inverse transform predictions\n",
    "y_pred_scaled = model.predict(X_test)\n",
    "y_pred_scaled[:5]\n"
   ]
  },
  {
   "cell_type": "code",
   "execution_count": 74,
   "id": "cf320070-d982-4053-ada4-b53d8270248a",
   "metadata": {},
   "outputs": [
    {
     "name": "stdout",
     "output_type": "stream",
     "text": [
      "[[ 642.42608463]\n",
      " [2035.84419081]\n",
      " [1428.84916413]\n",
      " [3181.17583195]\n",
      " [ -82.4324132 ]]\n",
      "[[ 327.5736]\n",
      " [3323.0078]\n",
      " [ 808.947 ]\n",
      " [4262.4516]\n",
      " [ 339.558 ]]\n"
     ]
    }
   ],
   "source": [
    "y_pred_scaled = y_pred_scaled.reshape(-1, 1) # converting 1D to 2D becuse inverse_transform expects a 2D.\n",
    "y_pred = scaler_t.inverse_transform(y_pred_scaled)\n",
    "y_pred[:5]\n",
    "y_test_scaled = y_test\n",
    "# Convert y_test to NumPy array and reshape it\n",
    "y_test = y_test.values  # Convert Series to NumPy array\n",
    "if len(y_test.shape) == 1:  # Check if y_test is 1D\n",
    "    y_test = y_test.reshape(-1, 1)\n",
    "    \n",
    "# Inverse transform the y_test data\n",
    "y_test = scaler_t.inverse_transform(y_test)\n",
    "\n",
    "# Print first 5 values of both y_pred and y_test to compare\n",
    "print(y_pred[:5])\n",
    "print(y_test[:5])"
   ]
  },
  {
   "cell_type": "code",
   "execution_count": 75,
   "id": "ba84a8da-ca78-4848-acca-dc7a758383fa",
   "metadata": {},
   "outputs": [],
   "source": [
    "mse_lr = mean_squared_error(y_test,y_pred)\n",
    "r2_lr = r2_score(y_test,y_pred)"
   ]
  },
  {
   "cell_type": "code",
   "execution_count": 76,
   "id": "759d534b-b5f1-47e0-b443-b5a0a47dbf45",
   "metadata": {},
   "outputs": [
    {
     "name": "stdout",
     "output_type": "stream",
     "text": [
      "Mean Squared Error for linear Regression is: 1346938.8267293454\n"
     ]
    }
   ],
   "source": [
    "print(f\"Mean Squared Error for linear Regression is: {mse_lr}\")"
   ]
  },
  {
   "cell_type": "code",
   "execution_count": 77,
   "id": "24444e35-2577-44c4-a57f-c4d96dc972ce",
   "metadata": {},
   "outputs": [
    {
     "name": "stdout",
     "output_type": "stream",
     "text": [
      "R2 score for linear Regression is: 0.5750267851048723\n"
     ]
    }
   ],
   "source": [
    "print(f\"R2 score for linear Regression is: {r2_lr}\")"
   ]
  },
  {
   "cell_type": "code",
   "execution_count": 78,
   "id": "79505ad9-c181-4ec3-a61b-689c1b8f0011",
   "metadata": {},
   "outputs": [
    {
     "data": {
      "text/plain": [
       "0.5588577713274163"
      ]
     },
     "execution_count": 78,
     "metadata": {},
     "output_type": "execute_result"
    }
   ],
   "source": [
    "score_train= model.score(X_train,y_train)\n",
    "score_train"
   ]
  },
  {
   "cell_type": "code",
   "execution_count": 79,
   "id": "cb823de7-0ee8-48dd-9150-6ffd5ec318fa",
   "metadata": {},
   "outputs": [
    {
     "data": {
      "text/plain": [
       "0.5750267851048723"
      ]
     },
     "execution_count": 79,
     "metadata": {},
     "output_type": "execute_result"
    }
   ],
   "source": [
    "score_test= model.score(X_test,y_test_scaled)\n",
    "score_test"
   ]
  },
  {
   "cell_type": "markdown",
   "id": "78a12097-ce55-4703-8d8e-d206f5a96303",
   "metadata": {},
   "source": [
    "## using Random Forest Regressor"
   ]
  },
  {
   "cell_type": "code",
   "execution_count": 52,
   "id": "03050100-1ad3-4256-b5c0-de061e1152cd",
   "metadata": {},
   "outputs": [],
   "source": [
    "X_rf = df_encoded.drop([\"Item_Identifier\",\"Item_Outlet_Sales\"], axis = \"columns\")"
   ]
  },
  {
   "cell_type": "code",
   "execution_count": 53,
   "id": "814c1b46-6ff2-4e46-abc1-5eebd3bd2543",
   "metadata": {},
   "outputs": [],
   "source": [
    "y_rf = df_encoded.Item_Outlet_Sales"
   ]
  },
  {
   "cell_type": "code",
   "execution_count": 54,
   "id": "ab4bf5e5-5c37-4b85-8265-af080b817008",
   "metadata": {},
   "outputs": [],
   "source": [
    "X_train, X_test, y_train, y_test = get_x_y(X_rf,y_rf)"
   ]
  },
  {
   "cell_type": "code",
   "execution_count": 55,
   "id": "342c5bc3-9ec7-4faa-bed9-d8c3b4188c7c",
   "metadata": {},
   "outputs": [],
   "source": [
    "model = RandomForestRegressor(n_estimators=100, random_state=0)\n",
    "model.fit(X_train, y_train)\n",
    "y_predicted_rf = model.predict(X_test)\n",
    "R2_score_rf = r2_score(y_test, y_predicted_rf)\n",
    "mse = mean_squared_error(y_test, y_predicted_rf)"
   ]
  },
  {
   "cell_type": "code",
   "execution_count": 56,
   "id": "b45d6acc-0fba-4e87-8dea-79e549b5d10a",
   "metadata": {},
   "outputs": [
    {
     "name": "stdout",
     "output_type": "stream",
     "text": [
      "Mean Squared Error for Random Forest Regression is: 1296791.2312902422\n"
     ]
    }
   ],
   "source": [
    "print(f\"Mean Squared Error for Random Forest Regression is: {mse}\")"
   ]
  },
  {
   "cell_type": "code",
   "execution_count": 57,
   "id": "d0676766-55da-4184-b26a-429c9c7bfc1a",
   "metadata": {},
   "outputs": [
    {
     "name": "stdout",
     "output_type": "stream",
     "text": [
      "R2 score for Random Forest Regression is: 0.5569342320041304\n"
     ]
    }
   ],
   "source": [
    "print(f\"R2 score for Random Forest Regression is: {R2_score_rf}\")"
   ]
  },
  {
   "cell_type": "markdown",
   "id": "330ac954-9fce-41de-a301-ed0a6b381a9f",
   "metadata": {},
   "source": [
    "## Cross val Score (K-Stratified fold)"
   ]
  },
  {
   "cell_type": "code",
   "execution_count": 58,
   "id": "530fc2d2-1f20-4ab0-8d10-1ba0257e3969",
   "metadata": {},
   "outputs": [],
   "source": [
    "from sklearn.model_selection import cross_val_score"
   ]
  },
  {
   "cell_type": "code",
   "execution_count": 59,
   "id": "83262360-e36e-47ae-96bd-bca1735c168e",
   "metadata": {},
   "outputs": [],
   "source": [
    "scores_lr = cross_val_score(LinearRegression(), X_lr , y_lr, cv= 10 )"
   ]
  },
  {
   "cell_type": "code",
   "execution_count": 61,
   "id": "6aae5c78-8f89-41e3-9c55-3efcac155ddb",
   "metadata": {},
   "outputs": [
    {
     "name": "stdout",
     "output_type": "stream",
     "text": [
      "Average R² Score for linear Regression: 0.5597859789562751\n"
     ]
    }
   ],
   "source": [
    "average_r2_l = scores_lr.mean()\n",
    "print(f'Average R² Score for linear Regression: {average_r2_l}')\n"
   ]
  },
  {
   "cell_type": "code",
   "execution_count": 62,
   "id": "88b063d4-e335-42ed-ad91-942b8248bc09",
   "metadata": {},
   "outputs": [],
   "source": [
    "scores_rf = cross_val_score(RandomForestRegressor(n_estimators= 100, random_state=0), X_rf , y_rf, cv= 10 )"
   ]
  },
  {
   "cell_type": "code",
   "execution_count": 63,
   "id": "ff48e339-091b-47a5-88b6-a99b925c2e32",
   "metadata": {},
   "outputs": [
    {
     "name": "stdout",
     "output_type": "stream",
     "text": [
      "Average R² Score for Random Forest Regression: 0.554871145995373\n"
     ]
    }
   ],
   "source": [
    "average_r2_rf = scores_rf.mean()\n",
    "print(f'Average R² Score for Random Forest Regression: {average_r2_rf}')"
   ]
  },
  {
   "cell_type": "markdown",
   "id": "9d071794-bce6-41f2-a4ad-233ca9a65f51",
   "metadata": {},
   "source": [
    "## Can do proper tuning by changing the value of n_estimators and thus the Random Forest model can be improved."
   ]
  },
  {
   "cell_type": "markdown",
   "id": "16e752ce-6021-4991-b552-1f83c23f2953",
   "metadata": {},
   "source": [
    "## Hypertuning"
   ]
  },
  {
   "cell_type": "code",
   "execution_count": 70,
   "id": "9416f73a-1a78-44ec-b6b9-224490d0946e",
   "metadata": {},
   "outputs": [],
   "source": [
    "model_params = {\n",
    " \n",
    "    'random_forest': {\n",
    "        'model': RandomForestRegressor(),\n",
    "        'params' : {\n",
    "            'n_estimators': [70,80,90]\n",
    "        }\n",
    "    }\n",
    "    \n",
    "}"
   ]
  },
  {
   "cell_type": "code",
   "execution_count": 71,
   "id": "710d032a-d47c-45f0-b453-fc2821641703",
   "metadata": {},
   "outputs": [
    {
     "data": {
      "text/html": [
       "<div>\n",
       "<style scoped>\n",
       "    .dataframe tbody tr th:only-of-type {\n",
       "        vertical-align: middle;\n",
       "    }\n",
       "\n",
       "    .dataframe tbody tr th {\n",
       "        vertical-align: top;\n",
       "    }\n",
       "\n",
       "    .dataframe thead th {\n",
       "        text-align: right;\n",
       "    }\n",
       "</style>\n",
       "<table border=\"1\" class=\"dataframe\">\n",
       "  <thead>\n",
       "    <tr style=\"text-align: right;\">\n",
       "      <th></th>\n",
       "      <th>model</th>\n",
       "      <th>best_score</th>\n",
       "      <th>best_params</th>\n",
       "    </tr>\n",
       "  </thead>\n",
       "  <tbody>\n",
       "    <tr>\n",
       "      <th>0</th>\n",
       "      <td>random_forest</td>\n",
       "      <td>0.550449</td>\n",
       "      <td>{'n_estimators': 70}</td>\n",
       "    </tr>\n",
       "  </tbody>\n",
       "</table>\n",
       "</div>"
      ],
      "text/plain": [
       "           model  best_score           best_params\n",
       "0  random_forest    0.550449  {'n_estimators': 70}"
      ]
     },
     "execution_count": 71,
     "metadata": {},
     "output_type": "execute_result"
    }
   ],
   "source": [
    "from sklearn.model_selection import GridSearchCV\n",
    "scores = []\n",
    "\n",
    "for model_name, mp in model_params.items():\n",
    "    clf =  GridSearchCV(mp['model'], mp['params'], cv=5, return_train_score=False)\n",
    "    clf.fit(df_encoded.drop([\"Item_Identifier\",\"Item_Outlet_Sales\"], axis = \"columns\"), df_encoded.Item_Outlet_Sales)\n",
    "    scores.append({\n",
    "        'model': model_name,\n",
    "        'best_score': clf.best_score_,\n",
    "        'best_params': clf.best_params_\n",
    "    })\n",
    "    \n",
    "df = pd.DataFrame(scores,columns=['model','best_score','best_params'])\n",
    "df"
   ]
  },
  {
   "cell_type": "code",
   "execution_count": null,
   "id": "bbc7cc22-fbb9-4cd1-bc75-156eb48eba2b",
   "metadata": {},
   "outputs": [],
   "source": []
  }
 ],
 "metadata": {
  "kernelspec": {
   "display_name": "Python 3 (ipykernel)",
   "language": "python",
   "name": "python3"
  },
  "language_info": {
   "codemirror_mode": {
    "name": "ipython",
    "version": 3
   },
   "file_extension": ".py",
   "mimetype": "text/x-python",
   "name": "python",
   "nbconvert_exporter": "python",
   "pygments_lexer": "ipython3",
   "version": "3.8.20"
  }
 },
 "nbformat": 4,
 "nbformat_minor": 5
}
